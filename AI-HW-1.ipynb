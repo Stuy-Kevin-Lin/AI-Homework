{
 "cells": [
  {
   "cell_type": "markdown",
   "metadata": {},
   "source": [
    "## Let's do some timing work ##\n",
    "First, create the function _RandListSet(n)_ that returns two things: a list of **n** unique integers in random order, and a set of the same integers.  You might look at the method: _random.shuffle()_ although there are other ways to do this.\n",
    "\n"
   ]
  },
  {
   "cell_type": "code",
   "execution_count": 94,
   "metadata": {},
   "outputs": [
    {
     "data": {
      "text/plain": [
       "([2, 5, 3, 9, 8, 1, 7, 4, 0, 6], {0, 1, 2, 3, 4, 5, 6, 7, 8, 9})"
      ]
     },
     "execution_count": 94,
     "metadata": {},
     "output_type": "execute_result"
    }
   ],
   "source": [
    "import random\n",
    "\n",
    "def RandListSet(n):\n",
    "    outputList = [i for i in range(n)] #New list of numbers from 0 to n-1\n",
    "    random.shuffle(outputList)\n",
    "    outputSet = set(outputList)\n",
    "    return outputList,outputSet\n",
    "\n",
    "RandListSet(10)"
   ]
  },
  {
   "cell_type": "markdown",
   "metadata": {},
   "source": [
    "...by the way, the _pass_ statement above is a null-statement in Python, and is useful when a statement is required but you don't want it to do anything.\n",
    "\n",
    "Now create the function _TimeIt(n)_ that executes _RandListSet(n)_ and returns 3 things: the list, the set, and the amount of time, in seconds, it took to do that.  Look at the _time_ library's _time()_ method."
   ]
  },
  {
   "cell_type": "code",
   "execution_count": 95,
   "metadata": {},
   "outputs": [
    {
     "data": {
      "text/plain": [
       "0.002000093460083008"
      ]
     },
     "execution_count": 95,
     "metadata": {},
     "output_type": "execute_result"
    }
   ],
   "source": [
    "import time\n",
    "\n",
    "def TimeIt(n):\n",
    "    start = time.time()\n",
    "    RandListSet(n)\n",
    "    return time.time() - start\n",
    "\n",
    "TimeIt(1000)"
   ]
  },
  {
   "cell_type": "markdown",
   "metadata": {},
   "source": [
    "All right... We'd like to create a list and set of **n** unique integers each (as above), that takes a certain amount of time to produce.  In other words, suppose we chose a time of 0.5 seconds: now how large should **n** be such that it takes about 0.5 seconds for _RandListSet(n)_ to run?  This, of course, is dependent upon many things: principally, the speed of your computer, but also the version of Python you're using, the particular algorithm inside _RandListSet()_, your shoe size, etc. Therefore, you can't just try _TimeIt(n)_ over and over, by hand, until you're in the ballpark of the chosen execution time.\n",
    "\n",
    "OK, so now let's try our hands (actually, _your_ hands) at a small but non-trivial algorithm...\n",
    "\n",
    "Create the function _FindN(TargetTime,Accuracy)_ that will **algorithmically** find the right value of **n** so that it takes approximately _TargetTime_ seconds for _RandListSet(n)_ to run.  The _Accuracy_ parameter deals with the approximation -- it indicates what fraction of _TargetTime_ you are allowed to be different (that was badly explained).  Here's an example: _FindN(2.0,0.1)_ means finding **n** so that _RandListSet(n)_ takes about 2 seconds plus-or-minus 10% -- in other words, between 1.8 and 2.2 seconds.\n",
    "\n",
    "Assume that _TargetTime_ will be somewhere in the range: 0.1 to 1.5 seconds, and _Accuracy_ in the range 0.05 and 0.2.  Try to make sure that _FindN()_ doesn't run for more than, say, 10 seconds."
   ]
  },
  {
   "cell_type": "code",
   "execution_count": 110,
   "metadata": {},
   "outputs": [
    {
     "data": {
      "text/plain": [
       "702098"
      ]
     },
     "execution_count": 110,
     "metadata": {},
     "output_type": "execute_result"
    }
   ],
   "source": [
    "import math\n",
    "\n",
    "def FindN(TargetTime,Accuracy):\n",
    "    start = time.time()\n",
    "    n = 1000\n",
    "    timeN = -1\n",
    "    lower,higher = TargetTime - (TargetTime * Accuracy), TargetTime + (TargetTime * Accuracy) #Upper and lower bounds for accuracy\n",
    "    while timeN < lower or timeN > higher:\n",
    "        if start - time.time() > 10: return \"Took too long\"\n",
    "        timeN = TimeIt(n)\n",
    "        #Since RandListSet(n) has a linear runtime, multiply n by the quotient of TargetTime and timeN\n",
    "        n = math.floor(TargetTime/timeN * n)\n",
    "    return n\n",
    "\n",
    "FindN(1.1,0.1)"
   ]
  },
  {
   "cell_type": "markdown",
   "metadata": {},
   "source": [
    "While the primary point of this exercise was creating the _FindN()_ function, we can use the list and set produced to compare the speed with which Python can look up elements inside lists and inside sets.  Suppose we wanted to know whether a particular integer is inside a list. How long would Python take to answer that Boolean question?  What if we asked the same question of a set?  We'd expect Python to answer faster for a set than for a list.  Is that true?\n",
    "\n",
    "Use _FindN(1.0,0.1)_ to choose a list/set size (**n**).  Create a list and a set of size **n** using _RandListSet(n)_.  Create the function _Lookup(lst,st,m)_ that will be given that list and set that will report on 4 different times.\n",
    "\n",
    "1. do the following **m** times: choose a random integer that you know is in the list, and ask the list if it's there (you don't care where in the list it is, just whether it's in the list).\n",
    "2. do the following **m** times: choose a random integer that you know is in the set, and ask the set if it's there.\n",
    "3. do the following **m** times: choose an integer that you know is **not** in the list, and ask the list if it's there.\n",
    "4. do the following **m** times: choose an integer that you know is **not** in the set, and ask the set if it's there.\n",
    "\n",
    "Calculate the time to do each of the 4 processes, and report those 4 numbers. We want to see how much faster the set's lookup is.  You may have to choose a large m so that the times you get back for the set operations are larger than 0.\n",
    "\n"
   ]
  },
  {
   "cell_type": "code",
   "execution_count": 114,
   "metadata": {},
   "outputs": [],
   "source": [
    "generatedList,generatedSet = RandListSet(FindN(1.0,0.1))"
   ]
  },
  {
   "cell_type": "code",
   "execution_count": 119,
   "metadata": {},
   "outputs": [
    {
     "data": {
      "text/plain": [
       "[13.79378890991211, 0.002000093460083008, 25.156439065933228, 0.0]"
      ]
     },
     "execution_count": 119,
     "metadata": {},
     "output_type": "execute_result"
    }
   ],
   "source": [
    "def Lookup(lst,st,m):\n",
    "    size = len(generatedList)\n",
    "    times = []\n",
    "    \n",
    "    start = time.time()\n",
    "    for i in range(m):#Look up random int in list\n",
    "        random.randint(0,size) in lst\n",
    "    times.append(time.time()-start)\n",
    "    \n",
    "    start = time.time()\n",
    "    for i in range(m):#Look up random int in set\n",
    "        random.randint(0,size) in st\n",
    "    times.append(time.time()-start)\n",
    "    \n",
    "    start = time.time()\n",
    "    for i in range(m):#Look up missing int in list\n",
    "        size in lst\n",
    "    times.append(time.time()-start)\n",
    "    \n",
    "    start = time.time()\n",
    "    for i in range(m):#Look up missing int in set\n",
    "        size in st\n",
    "    times.append(time.time()-start)\n",
    "    \n",
    "    return times\n",
    "\n",
    "Lookup(generatedList,generatedSet,1000)"
   ]
  }
 ],
 "metadata": {
  "kernelspec": {
   "display_name": "Python 3",
   "language": "python",
   "name": "python3"
  },
  "language_info": {
   "codemirror_mode": {
    "name": "ipython",
    "version": 3
   },
   "file_extension": ".py",
   "mimetype": "text/x-python",
   "name": "python",
   "nbconvert_exporter": "python",
   "pygments_lexer": "ipython3",
   "version": "3.7.0"
  }
 },
 "nbformat": 4,
 "nbformat_minor": 2
}

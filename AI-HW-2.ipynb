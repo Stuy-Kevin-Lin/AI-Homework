{
 "cells": [
  {
   "cell_type": "code",
   "execution_count": 74,
   "metadata": {},
   "outputs": [],
   "source": [
    "class BinTree():\n",
    "  \n",
    "    def __init__(self,L = []):\n",
    "        self.value = None\n",
    "        self.left = None\n",
    "        self.right = None\n",
    "\n",
    "        if not(type(L) == list): self.value = L\n",
    "        else:\n",
    "            for i in L:\n",
    "                self.insert(i)\n",
    "\n",
    "    def insert(self,input):\n",
    "        if self.value == None:\n",
    "            self.value = input\n",
    "        elif self.value > input:\n",
    "            if self.left == None:\n",
    "                self.left = BinTree(input)\n",
    "            else: self.left.insert(input)\n",
    "        else:\n",
    "            if self.right == None:\n",
    "                self.right = BinTree(input)\n",
    "            else: self.right.insert(input)\n",
    "        \n",
    "    def has(self,input):\n",
    "        if self.value == input: return True\n",
    "        elif self.value > input:\n",
    "            if self.left == None: return False\n",
    "            return self.left.has(input)\n",
    "        else:\n",
    "            if self.right == None: return False\n",
    "            return self.right.has(input)\n",
    "    \n",
    "    def get_ordered_list(self):\n",
    "        if self.value == None: return []\n",
    "        output = []\n",
    "        self.listHelper(output)\n",
    "        return output\n",
    "    \n",
    "    def listHelper(self,L):\n",
    "        if not(self.left == None):\n",
    "            self.left.listHelper(L)\n",
    "        L.append(self.value)\n",
    "        if not(self.right == None):\n",
    "            self.right.listHelper(L)\n",
    "    \n",
    "    def clear(self):\n",
    "        if not(self.left == None):\n",
    "            self.left.clear()\n",
    "        if not(self.right == None):\n",
    "            self.right.clear()\n",
    "        self.value = None\n",
    "        self.right = None\n",
    "        self.left = None"
   ]
  },
  {
   "cell_type": "code",
   "execution_count": 76,
   "metadata": {},
   "outputs": [
    {
     "name": "stdout",
     "output_type": "stream",
     "text": [
      "[5, 3, 4, 7, 8, 6, 1, 2, 0, 9]\n",
      "[0, 1, 2, 3, 4, 5, 6, 7, 8, 9]\n",
      "[0, 1, 2, 3, 4, 5, 6, 7, 8, 9, 10]\n",
      "True\n",
      "False\n",
      "[]\n"
     ]
    }
   ],
   "source": [
    "import random\n",
    "\n",
    "lst = [i for i in range(10)]\n",
    "random.shuffle(lst)\n",
    "print(lst)\n",
    "tree = BinTree(lst)\n",
    "print(tree.get_ordered_list())\n",
    "\n",
    "tree.insert(10)\n",
    "print(tree.get_ordered_list())\n",
    "\n",
    "print(tree.has(5))\n",
    "print(tree.has(99))\n",
    "\n",
    "tree.clear()\n",
    "print(tree.get_ordered_list())"
   ]
  }
 ],
 "metadata": {
  "kernelspec": {
   "display_name": "Python 3",
   "language": "python",
   "name": "python3"
  },
  "language_info": {
   "codemirror_mode": {
    "name": "ipython",
    "version": 3
   },
   "file_extension": ".py",
   "mimetype": "text/x-python",
   "name": "python",
   "nbconvert_exporter": "python",
   "pygments_lexer": "ipython3",
   "version": "3.7.0"
  }
 },
 "nbformat": 4,
 "nbformat_minor": 2
}
